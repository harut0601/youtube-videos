{
 "cells": [
  {
   "cell_type": "markdown",
   "metadata": {},
   "source": [
    "# Age Calculator"
   ]
  },
  {
   "cell_type": "code",
   "execution_count": 10,
   "metadata": {},
   "outputs": [
    {
     "name": "stdout",
     "output_type": "stream",
     "text": [
      "The date of your birth.. 2003\n",
      "You were born in 2003\n",
      "You are 16 years old!\n"
     ]
    }
   ],
   "source": [
    "import datetime\n",
    "\n",
    "date_of_birth = int(input(\"The date of your birth.. \"))\n",
    "current_year = datetime.date.today().year\n",
    "print(\"You were born in\", date_of_birth)\n",
    "print(\"You are\", current_year - date_of_birth, \"years old!\")\n"
   ]
  },
  {
   "cell_type": "markdown",
   "metadata": {},
   "source": [
    "# Word Characters"
   ]
  },
  {
   "cell_type": "code",
   "execution_count": 13,
   "metadata": {},
   "outputs": [
    {
     "name": "stdout",
     "output_type": "stream",
     "text": [
      "Please input your password: new_pass\n",
      "The password is accepted!\n"
     ]
    }
   ],
   "source": [
    "password = input(\"Please input your password: \")\n",
    "if len(password) > 50:\n",
    "    print(\"The password must contain less than 50 characters.\")\n",
    "elif len(password) < 3:\n",
    "    print(\"The password must contain more than 3 characters.\")\n",
    "else:\n",
    "    print(\"The password is accepted!\")"
   ]
  },
  {
   "cell_type": "markdown",
   "metadata": {},
   "source": [
    "# Temperature Problem"
   ]
  },
  {
   "cell_type": "code",
   "execution_count": 63,
   "metadata": {},
   "outputs": [
    {
     "name": "stdout",
     "output_type": "stream",
     "text": [
      "The outside temperature: 0\n",
      "(C)elsius or (F)ahrenheit: C\n",
      "32.0 Fahrenheit\n"
     ]
    }
   ],
   "source": [
    "temperature = int(input(\"The outside temperature: \"))\n",
    "unit = input(\"(C)elsius or (F)ahrenheit: \")\n",
    "\n",
    "if unit.upper() == \"C\":\n",
    "    final_temperature = (temperature * 1.8 + 32)\n",
    "elif unit.upper() == \"F\":\n",
    "    final_temperature = ((temperature - 32) * 5/9)\n",
    "else:\n",
    "    print(\"Try again...\")\n",
    "  \n",
    "if unit.upper() == \"C\":\n",
    "    unit = \"Fahrenheit\"\n",
    "elif unit.upper() == \"F\":\n",
    "    unit = \"Celsius\"\n",
    "\n",
    "print(final_temperature, unit)"
   ]
  },
  {
   "cell_type": "code",
   "execution_count": null,
   "metadata": {},
   "outputs": [],
   "source": []
  }
 ],
 "metadata": {
  "kernelspec": {
   "display_name": "Python 3",
   "language": "python",
   "name": "python3"
  },
  "language_info": {
   "codemirror_mode": {
    "name": "ipython",
    "version": 3
   },
   "file_extension": ".py",
   "mimetype": "text/x-python",
   "name": "python",
   "nbconvert_exporter": "python",
   "pygments_lexer": "ipython3",
   "version": "3.7.4"
  }
 },
 "nbformat": 4,
 "nbformat_minor": 2
}
